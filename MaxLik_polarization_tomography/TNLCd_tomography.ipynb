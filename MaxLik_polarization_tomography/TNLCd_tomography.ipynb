{
 "cells": [
  {
   "cell_type": "code",
   "execution_count": 1,
   "metadata": {},
   "outputs": [],
   "source": [
    "import numpy as np\n",
    "import MaxLik as ML"
   ]
  },
  {
   "cell_type": "markdown",
   "metadata": {},
   "source": [
    "## Import of conversions relations"
   ]
  },
  {
   "cell_type": "markdown",
   "metadata": {},
   "source": [
    "### Sigma matrices"
   ]
  },
  {
   "cell_type": "code",
   "execution_count": 2,
   "metadata": {},
   "outputs": [],
   "source": [
    "sigma1 = np.array([[1., 0.], [0., -1.]])\n",
    "sigma2 = np.array([[0., 1.], [1., 0.]])\n",
    "sigma3 = np.array([[0., -1j], [1j, 0.]])\n",
    "sigma = np.array([sigma1, sigma2, sigma3])"
   ]
  },
  {
   "cell_type": "markdown",
   "metadata": {},
   "source": [
    "### Convert rho matrix to Bloch vector"
   ]
  },
  {
   "cell_type": "code",
   "execution_count": 3,
   "metadata": {},
   "outputs": [],
   "source": [
    "blochFromRho = lambda rho_ : np.real(np.array([\n",
    "    np.trace(np.dot(rho_,sigma1)),\n",
    "    np.trace(np.dot(rho_,sigma2)),\n",
    "    np.trace(np.dot(rho_,sigma3))\n",
    "]))"
   ]
  },
  {
   "cell_type": "markdown",
   "metadata": {},
   "source": [
    "# Data import"
   ]
  },
  {
   "cell_type": "code",
   "execution_count": 4,
   "metadata": {},
   "outputs": [],
   "source": [
    "f = open('20200211_09h17min_HVDARL_Sample_dataset.txt')\n",
    "dataRAW = []\n",
    "for line in f.readlines():\n",
    "    dataRAW.append(line.strip().split(',\\t'))"
   ]
  },
  {
   "cell_type": "code",
   "execution_count": 5,
   "metadata": {},
   "outputs": [],
   "source": [
    "# data formating\n",
    "strList = []\n",
    "for i in range (0,7):\n",
    "    strList.extend(dataRAW[i][0].strip().replace('[', '').replace(']', '').replace('(', '').replace(')', '').replace(' ', ''))\n",
    "str1 = ''.join(strList)"
   ]
  },
  {
   "cell_type": "markdown",
   "metadata": {},
   "source": [
    "## Import TNLCd projectors from file"
   ]
  },
  {
   "cell_type": "code",
   "execution_count": 6,
   "metadata": {},
   "outputs": [],
   "source": [
    "projRaw = str1.split('array')[1:7]"
   ]
  },
  {
   "cell_type": "code",
   "execution_count": 7,
   "metadata": {},
   "outputs": [],
   "source": [
    "projectors = []\n",
    "for i in range(0,6):\n",
    "    myArray = np.array([[complex(projRaw[i].split(',')[0]),complex(projRaw[i].split(',')[1])],[complex(projRaw[i].split(',')[2]),complex(projRaw[i].split(',')[3])]])\n",
    "    projectors.append(myArray)"
   ]
  },
  {
   "cell_type": "code",
   "execution_count": 8,
   "metadata": {},
   "outputs": [
    {
     "data": {
      "text/plain": [
       "[array([[2.06232435e-04+0.j        , 2.34509528e-03-0.01414858j],\n",
       "        [2.34509528e-03+0.01414858j, 9.99793768e-01+0.j        ]]),\n",
       " array([[ 9.99566018e-01+0.j        , -4.21507759e-03-0.02035939j],\n",
       "        [-4.21507759e-03+0.02035939j,  4.33981725e-04+0.j        ]]),\n",
       " array([[0.50221957+0.j        , 0.00070364+0.49754503j],\n",
       "        [0.00070364-0.49754503j, 0.49778043+0.j        ]]),\n",
       " array([[ 0.49878551+0.j        , -0.49954608-0.02015359j],\n",
       "        [-0.49954608+0.02015359j,  0.50121449+0.j        ]]),\n",
       " array([[0.50303306+0.j        , 0.49975206-0.01520001j],\n",
       "        [0.49975206+0.01520001j, 0.49696694+0.j        ]]),\n",
       " array([[ 0.48383912+0.j        , -0.01067191-0.49821652j],\n",
       "        [-0.01067191+0.49821652j,  0.51616088+0.j        ]])]"
      ]
     },
     "execution_count": 8,
     "metadata": {},
     "output_type": "execute_result"
    }
   ],
   "source": [
    "projectors"
   ]
  },
  {
   "cell_type": "markdown",
   "metadata": {},
   "source": [
    "## Import measured data"
   ]
  },
  {
   "cell_type": "code",
   "execution_count": 9,
   "metadata": {},
   "outputs": [],
   "source": [
    "countData = [float(dataRAW[i][1]) for i in range (7,13)]"
   ]
  },
  {
   "cell_type": "code",
   "execution_count": 10,
   "metadata": {},
   "outputs": [
    {
     "name": "stdout",
     "output_type": "stream",
     "text": [
      "[0.0006465315818786621, 4.008024966716766, 2.026712429523468, 1.941301190853119, 1.9922939896583558, 1.8951233506202698]\n"
     ]
    }
   ],
   "source": [
    "print(countData)"
   ]
  },
  {
   "cell_type": "markdown",
   "metadata": {},
   "source": [
    "# Maximum-likelihood\n",
    "State reconstruction using MaxLik"
   ]
  },
  {
   "cell_type": "code",
   "execution_count": 11,
   "metadata": {},
   "outputs": [],
   "source": [
    "[rho,bloch] = ML.Maxlik(countData, projectors)"
   ]
  },
  {
   "cell_type": "code",
   "execution_count": 12,
   "metadata": {},
   "outputs": [
    {
     "name": "stdout",
     "output_type": "stream",
     "text": [
      "Analyzed state: [ 0.99951192 -0.00311421  0.03108417]\n"
     ]
    }
   ],
   "source": [
    "print ('Analyzed state: ' + str(bloch))"
   ]
  },
  {
   "cell_type": "code",
   "execution_count": null,
   "metadata": {},
   "outputs": [],
   "source": []
  },
  {
   "cell_type": "markdown",
   "metadata": {},
   "source": [
    "# All data reconstruction\n",
    "Lets perform MaxLik reconstruction for all measured data"
   ]
  },
  {
   "cell_type": "code",
   "execution_count": 13,
   "metadata": {},
   "outputs": [],
   "source": [
    "# import all data\n",
    "dataAll = np.array(dataRAW[7:-1]).transpose()[1].reshape(6,6,1).astype(np.float)"
   ]
  },
  {
   "cell_type": "code",
   "execution_count": 14,
   "metadata": {},
   "outputs": [],
   "source": [
    "#perform ML recosntruction\n",
    "rhos = np.array([ML.Maxlik(countData, projectors)[0] for countData in dataAll])"
   ]
  },
  {
   "cell_type": "code",
   "execution_count": 15,
   "metadata": {},
   "outputs": [
    {
     "data": {
      "text/plain": [
       "[array([ 0.99951192, -0.00311421,  0.03108417]),\n",
       " array([-0.99957249, -0.01209158,  0.02662003]),\n",
       " array([0.00928819, 0.9996032 , 0.02659264]),\n",
       " array([-0.00505469, -0.99949419,  0.03139767]),\n",
       " array([ 0.03062416, -0.00217134,  0.99952861]),\n",
       " array([ 5.01885615e-02, -1.95181750e-04, -9.97459078e-01])]"
      ]
     },
     "execution_count": 15,
     "metadata": {},
     "output_type": "execute_result"
    }
   ],
   "source": [
    "[blochFromRho(rho) for rho in rhos]"
   ]
  },
  {
   "cell_type": "code",
   "execution_count": null,
   "metadata": {},
   "outputs": [],
   "source": []
  }
 ],
 "metadata": {
  "kernelspec": {
   "display_name": "Python 3",
   "language": "python",
   "name": "python3"
  },
  "language_info": {
   "codemirror_mode": {
    "name": "ipython",
    "version": 3
   },
   "file_extension": ".py",
   "mimetype": "text/x-python",
   "name": "python",
   "nbconvert_exporter": "python",
   "pygments_lexer": "ipython3",
   "version": "3.8.10"
  }
 },
 "nbformat": 4,
 "nbformat_minor": 4
}
