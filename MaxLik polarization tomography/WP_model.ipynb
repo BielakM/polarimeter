{
 "cells": [
  {
   "cell_type": "code",
   "execution_count": 1,
   "metadata": {},
   "outputs": [],
   "source": [
    "import numpy as np\n",
    "import math\n",
    "import MaxLik as ML"
   ]
  },
  {
   "cell_type": "code",
   "execution_count": 2,
   "metadata": {},
   "outputs": [],
   "source": [
    "#Idela HVDARL\n",
    "H = np.array([[1],[0]])\n",
    "V = np.array([[0],[1]])\n",
    "D = 1/math.sqrt(2) * (H + V)\n",
    "A = 1/math.sqrt(2) * (H - V)\n",
    "R = 1/math.sqrt(2) * (H + 1j*V)\n",
    "L = 1/math.sqrt(2) * (H - 1j*V)\n",
    "\n",
    "idealStates = [H,V,D,A,R,L]\n",
    "projList = ['H', 'V', 'D', 'A', 'R', 'L']"
   ]
  },
  {
   "cell_type": "code",
   "execution_count": 3,
   "metadata": {},
   "outputs": [],
   "source": [
    "def ReturnRho(jones):\n",
    "    return (jones@np.transpose(np.conjugate(jones)))"
   ]
  },
  {
   "cell_type": "markdown",
   "metadata": {},
   "source": [
    "# Polarisation elements"
   ]
  },
  {
   "cell_type": "code",
   "execution_count": 4,
   "metadata": {},
   "outputs": [],
   "source": [
    "linPol = np.array([[1,0],[0,0]])\n",
    "QWP = np.array([[1,0],[0,-1j]])\n",
    "HWP = np.array([[1,0],[0,-1]])\n",
    "\n",
    "def Rot(phi):\n",
    "    return(np.array([[np.cos(phi),-np.sin(phi)],[np.sin(phi),np.cos(phi)]]))\n",
    "\n",
    "#Angles for WP analysis\n",
    "angles = {'H': [   0   ,   0],\n",
    "          'V': [  45   ,   0],\n",
    "          'D': [  22.5 ,   0],\n",
    "          'A': [ -22.5 ,   0],\n",
    "          'R': [  22.5 , -45],\n",
    "          'L': [  22.5 ,  45],\n",
    "         }"
   ]
  },
  {
   "cell_type": "code",
   "execution_count": 5,
   "metadata": {},
   "outputs": [],
   "source": [
    "def Proj(argument, base = H):\n",
    "    [phiHWP,phiQWP] = argument\n",
    "    phiHWP = math.radians(phiHWP)\n",
    "    phiQWP = math.radians(phiQWP)\n",
    "    return((Rot(phiHWP)@HWP@Rot(-phiHWP))@(Rot(phiQWP)@QWP@Rot(-phiQWP))@base)"
   ]
  },
  {
   "cell_type": "markdown",
   "metadata": {},
   "source": [
    "Output Johnes vector when H polarization impinges a QWP@0deg and HWP@45deg."
   ]
  },
  {
   "cell_type": "code",
   "execution_count": 6,
   "metadata": {},
   "outputs": [
    {
     "data": {
      "text/plain": [
       "array([[2.22044605e-16+0.j],\n",
       "       [1.00000000e+00+0.j]])"
      ]
     },
     "execution_count": 6,
     "metadata": {},
     "output_type": "execute_result"
    }
   ],
   "source": [
    "Proj(angles['V'])"
   ]
  },
  {
   "cell_type": "markdown",
   "metadata": {},
   "source": [
    "# Basic ideas of WP tomography:\n",
    "\n",
    "When an unknown polarization state impinges the WP analyzer followed by a polarizer and a photodetector, the analyzer performs a polarization projection to the particular state (H, V, D, A, R, and L, required WP angles are known). Six detection responses are sequentially acquired for the corresponding projections. The input polarization state could be easily retrieved by solving a set of resulting linear equations or, which is how we proceed, using the maximum-likelihood method.\n",
    "\n",
    "## Import of conversions relations"
   ]
  },
  {
   "cell_type": "code",
   "execution_count": 7,
   "metadata": {},
   "outputs": [],
   "source": [
    "sigma1 = np.array([[1., 0.], [0., -1.]])\n",
    "sigma2 = np.array([[0., 1.], [1., 0.]])\n",
    "sigma3 = np.array([[0., -1j], [1j, 0.]])\n",
    "sigma = np.array([sigma1, sigma2, sigma3])\n",
    "\n",
    "blochFromRho = lambda rho_ : np.real(np.array([\n",
    "    np.trace(np.dot(rho_,sigma1)),\n",
    "    np.trace(np.dot(rho_,sigma2)),\n",
    "    np.trace(np.dot(rho_,sigma3))\n",
    "]))\n",
    "\n",
    "rhoFromBloch = lambda bloch_ : np.array([\n",
    "    [1+bloch_[0], bloch_[1]-1j*bloch_[2]],\n",
    "    [bloch_[1]+1j*bloch_[2], 1-bloch_[0]]\n",
    "])/2."
   ]
  },
  {
   "cell_type": "markdown",
   "metadata": {},
   "source": [
    "# WP Analysis"
   ]
  },
  {
   "cell_type": "code",
   "execution_count": 8,
   "metadata": {},
   "outputs": [],
   "source": [
    "#analyzed state |IN>\n",
    "inState = L\n",
    "\n",
    "#number of photons used for analysis\n",
    "photons = 100000"
   ]
  },
  {
   "cell_type": "code",
   "execution_count": 9,
   "metadata": {},
   "outputs": [],
   "source": [
    "# Output after the WP analyzator\n",
    "def OutState(argument):\n",
    "    [phiHWP,phiQWP] = argument\n",
    "    phiHWP = math.radians(phiHWP)\n",
    "    phiQWP = math.radians(phiQWP)\n",
    "    return((linPol@(Rot(-phiQWP)@QWP@Rot(phiQWP))@(Rot(-phiHWP)@HWP@Rot(phiHWP)))@inState)"
   ]
  },
  {
   "cell_type": "code",
   "execution_count": 10,
   "metadata": {},
   "outputs": [
    {
     "name": "stdout",
     "output_type": "stream",
     "text": [
      "Photons per proj.: [16659 16754 16607 16481     0 33499]\n"
     ]
    }
   ],
   "source": [
    "data = []\n",
    "\n",
    "# probabilities of each projection measurement when the input polarization state is analyzed\n",
    "for proj in projList:\n",
    "    outState = OutState(angles[proj])\n",
    "    data.append(abs(np.transpose(outState)@outState)[0][0])\n",
    "prob = data/sum(data)\n",
    "\n",
    "countData = np.random.multinomial(photons,prob) #photons per projection - all projections measured at the same time (model)\n",
    "\n",
    "print ('Photons per proj.: ' + str(countData))"
   ]
  },
  {
   "cell_type": "code",
   "execution_count": 11,
   "metadata": {},
   "outputs": [],
   "source": [
    "projectors = [] #projectors correspondent to the performed WP measurements\n",
    "for proj in projList:\n",
    "    projectors.append(np.outer(Proj(angles[proj]),Proj(angles[proj]).conj()))"
   ]
  },
  {
   "cell_type": "markdown",
   "metadata": {},
   "source": [
    "## Maximum-likelihood"
   ]
  },
  {
   "cell_type": "code",
   "execution_count": 12,
   "metadata": {},
   "outputs": [],
   "source": [
    "[rho,bloch] = ML.Maxlik(countData, projectors)"
   ]
  },
  {
   "cell_type": "markdown",
   "metadata": {},
   "source": [
    "# Result"
   ]
  },
  {
   "cell_type": "code",
   "execution_count": 13,
   "metadata": {},
   "outputs": [
    {
     "name": "stdout",
     "output_type": "stream",
     "text": [
      "Analyzed state: [-0.00189384  0.00252822 -0.99999501]\n",
      "|IN>:           [ 0.  0. -1.]\n"
     ]
    }
   ],
   "source": [
    "print ('Analyzed state: ' + str(bloch))\n",
    "print ('|IN>:           ' + str(blochFromRho(ReturnRho(inState))))"
   ]
  },
  {
   "cell_type": "code",
   "execution_count": null,
   "metadata": {},
   "outputs": [],
   "source": []
  }
 ],
 "metadata": {
  "kernelspec": {
   "display_name": "Python 3",
   "language": "python",
   "name": "python3"
  },
  "language_info": {
   "codemirror_mode": {
    "name": "ipython",
    "version": 3
   },
   "file_extension": ".py",
   "mimetype": "text/x-python",
   "name": "python",
   "nbconvert_exporter": "python",
   "pygments_lexer": "ipython3",
   "version": "3.8.10"
  }
 },
 "nbformat": 4,
 "nbformat_minor": 4
}
