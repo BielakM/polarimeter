{
 "cells": [
  {
   "cell_type": "code",
   "execution_count": 1,
   "metadata": {},
   "outputs": [],
   "source": [
    "import numpy as np\n",
    "import math\n",
    "import MaxLik as ML\n",
    "import matplotlib.pyplot as plt"
   ]
  },
  {
   "cell_type": "markdown",
   "metadata": {},
   "source": [
    "# Basic ideas of TNLCd tomography:\n",
    "\n",
    "First, the TNLC device is calibrated to be able to prepare six particular polarization states (as close to H, V, D, A, R, and L polarization as possible). These states are accurately characterized. When an unknown polarization state impinges the TNLC device followed by a polarizer and a photodetector, the device performs a polarization projection to the particular state. Six detection responses are sequentially acquired for the corresponding calibrated states. The input polarization state could be easily retrieved by solving a set of resulting linear equations or, which is how we proceed, using the maximum-likelihood method."
   ]
  },
  {
   "cell_type": "code",
   "execution_count": 2,
   "metadata": {},
   "outputs": [],
   "source": [
    "sigma1 = np.array([[1., 0.], [0., -1.]])\n",
    "sigma2 = np.array([[0., 1.], [1., 0.]])\n",
    "sigma3 = np.array([[0., -1j], [1j, 0.]])\n",
    "sigma = np.array([sigma1, sigma2, sigma3])\n",
    "\n",
    "blochFromRho = lambda rho_ : np.real(np.array([\n",
    "    np.trace(np.dot(rho_,sigma1)),\n",
    "    np.trace(np.dot(rho_,sigma2)),\n",
    "    np.trace(np.dot(rho_,sigma3))\n",
    "]))\n",
    "\n",
    "rhoFromBloch = lambda bloch_ : np.array([\n",
    "    [1+bloch_[0], bloch_[1]-1j*bloch_[2]],\n",
    "    [bloch_[1]+1j*bloch_[2], 1-bloch_[0]]\n",
    "])/2."
   ]
  },
  {
   "cell_type": "code",
   "execution_count": 3,
   "metadata": {},
   "outputs": [],
   "source": [
    "#Idela HVDARL\n",
    "H = np.array([[1],[0]])\n",
    "V = np.array([[0],[1]])\n",
    "D = 1/math.sqrt(2) * (H + V)\n",
    "A = 1/math.sqrt(2) * (H - V)\n",
    "R = 1/math.sqrt(2) * (H + 1j*V)\n",
    "L = 1/math.sqrt(2) * (H - 1j*V)\n",
    "\n",
    "idealStates = [H,V,D,A,R,L]\n",
    "projList = ['H', 'V', 'D', 'A', 'R', 'L']"
   ]
  },
  {
   "cell_type": "code",
   "execution_count": 4,
   "metadata": {},
   "outputs": [],
   "source": [
    "from scipy import linalg as LAS\n",
    "def ReturnRho(jones):\n",
    "    return (jones@np.transpose(np.conjugate(jones)))\n",
    "\n",
    "def Fidelity(rho1,rho2):\n",
    "    return math.pow(np.trace(LAS.sqrtm(LAS.sqrtm(rho1)@rho2@LAS.sqrtm(rho1))),2)"
   ]
  },
  {
   "cell_type": "code",
   "execution_count": 5,
   "metadata": {},
   "outputs": [
    {
     "data": {
      "text/plain": [
       "array([1., 0., 0.])"
      ]
     },
     "execution_count": 5,
     "metadata": {},
     "output_type": "execute_result"
    }
   ],
   "source": [
    "blochFromRho(ReturnRho(H))"
   ]
  },
  {
   "cell_type": "markdown",
   "metadata": {},
   "source": [
    "# TN LCc model\n",
    "## Fitted parameters"
   ]
  },
  {
   "cell_type": "code",
   "execution_count": 6,
   "metadata": {},
   "outputs": [],
   "source": [
    "a = -7.82057;\n",
    "b = 0.0761821;\n",
    "c = 176.156;\n",
    "d = -2.89523;\n",
    "e = -2.86832;\n",
    "phi = -5.15607;\n",
    "theta = -2.58144;"
   ]
  },
  {
   "cell_type": "markdown",
   "metadata": {},
   "source": [
    "## Logistic function"
   ]
  },
  {
   "cell_type": "code",
   "execution_count": 7,
   "metadata": {},
   "outputs": [],
   "source": [
    "retfun = lambda u_ : a + (1/(b + np.exp(d - c * (u_ ** e))))\n",
    "#Tvar funkce popisující závislost retardance na napětí, nyní již konzistentní s DP"
   ]
  },
  {
   "cell_type": "code",
   "execution_count": 8,
   "metadata": {},
   "outputs": [
    {
     "data": {
      "image/png": "[encoded data removed]",
      "text/plain": [
       "<Figure size 432x288 with 1 Axes>"
      ]
     },
     "metadata": {
      "needs_background": "light"
     },
     "output_type": "display_data"
    }
   ],
   "source": [
    "voltages = []\n",
    "funcVal = []\n",
    "for u in np.arange(0.01,10,0.1):\n",
    "    voltages.append(u)\n",
    "    funcVal.append(retfun(u))\n",
    "    \n",
    "plt.plot(voltages,funcVal)\n",
    "plt.xlabel('Vpp')\n",
    "plt.show()"
   ]
  },
  {
   "cell_type": "markdown",
   "metadata": {},
   "source": [
    "## TN LCc matrix"
   ]
  },
  {
   "cell_type": "code",
   "execution_count": 9,
   "metadata": {},
   "outputs": [],
   "source": [
    "lcmat = lambda u_: np.array([[np.cos(X(u_)) + (1j*gamma(u_) * np.sin(X(u_)))/X(u_), \n",
    "                            -((phi * np.sin(X(u_)))/X(u_))], \n",
    "                             [(phi * np.sin(X(u_)))/X(u_),\n",
    "                            np.cos(X(u_)) - (1j * gamma(u_) * np.sin(X(u_))/X(u_))]])\n",
    "\n",
    "#Finalni matice LCD"
   ]
  },
  {
   "cell_type": "code",
   "execution_count": 10,
   "metadata": {},
   "outputs": [],
   "source": [
    "gamma = lambda u_: retfun(u_)\n",
    "X = lambda u_ : np.sqrt((phi**2) + gamma(u_)**2)"
   ]
  },
  {
   "cell_type": "code",
   "execution_count": 11,
   "metadata": {},
   "outputs": [],
   "source": [
    "#lcmat(0.1)\n",
    "#lcmat(10)"
   ]
  },
  {
   "cell_type": "markdown",
   "metadata": {},
   "source": [
    "### Total TN LCc matrix"
   ]
  },
  {
   "cell_type": "code",
   "execution_count": 12,
   "metadata": {},
   "outputs": [],
   "source": [
    "rot = lambda x_ : np.array([[np.cos(x_), np.sin(x_)], [-np.sin(x_), np.cos(x_)]])\n",
    "total = lambda u_ : rot(-theta)@rot(phi)@lcmat(u_)@rot(theta)"
   ]
  },
  {
   "cell_type": "code",
   "execution_count": 13,
   "metadata": {},
   "outputs": [
    {
     "name": "stdout",
     "output_type": "stream",
     "text": [
      "[[ 0.99575674-0.08794097j  0.02710254+0.00059889j]\n",
      " [-0.02710254+0.00059889j  0.99575674+0.08794097j]]\n"
     ]
    }
   ],
   "source": [
    "print (np.matrix(total(10.1)))"
   ]
  },
  {
   "cell_type": "code",
   "execution_count": 14,
   "metadata": {},
   "outputs": [
    {
     "name": "stdout",
     "output_type": "stream",
     "text": [
      "[[ 0.96202639-0.26084398j]\n",
      " [-0.08038953+0.00177637j]]\n"
     ]
    }
   ],
   "source": [
    "print (np.matrix(total(10.1)@total(10.1)@total(10.1))@H)"
   ]
  },
  {
   "cell_type": "markdown",
   "metadata": {},
   "source": [
    "# Searching for target voltages\n",
    "(random sampling)"
   ]
  },
  {
   "cell_type": "code",
   "execution_count": 15,
   "metadata": {},
   "outputs": [],
   "source": [
    "TNLCd_prep = lambda u_: (total(u_[0])@total(u_[1])@total(u_[2])) #preparation"
   ]
  },
  {
   "cell_type": "code",
   "execution_count": 19,
   "metadata": {},
   "outputs": [],
   "source": [
    "voltageList = []\n",
    "statesList = []\n",
    "for u1 in np.arange(0.1,10,0.25):\n",
    "    for u2 in np.arange(0.1,10,0.25):\n",
    "        for u3 in np.arange(0.1,10,0.25):\n",
    "            voltageList.append([u1,u2,u3])\n",
    "            statesList.append(TNLCd_prep([u1,u2,u3])@H)\n",
    "rhoLis = []\n",
    "for state in statesList:\n",
    "    rhoLis.append(ReturnRho(state))"
   ]
  },
  {
   "cell_type": "code",
   "execution_count": 37,
   "metadata": {},
   "outputs": [
    {
     "name": "stdout",
     "output_type": "stream",
     "text": [
      "Approx time: 11.11d\n"
     ]
    }
   ],
   "source": [
    "print (f'Approx time: {np.round(len(rhoLis)*15/60/60/24,2)}d')"
   ]
  },
  {
   "cell_type": "code",
   "execution_count": 21,
   "metadata": {},
   "outputs": [
    {
     "name": "stderr",
     "output_type": "stream",
     "text": [
      "<ipython-input-4-6ebae919a181>:6: ComplexWarning: Casting complex values to real discards the imaginary part\n",
      "  return math.pow(np.trace(LAS.sqrtm(LAS.sqrtm(rho1)@rho2@LAS.sqrtm(rho1))),2)\n"
     ]
    },
    {
     "name": "stdout",
     "output_type": "stream",
     "text": [
      "0.9999904276835496\n",
      "0.9985774011905191\n",
      "0.9999956388806959\n",
      "0.9999776869008274\n",
      "0.9999879481851178\n",
      "0.9999301898334501\n"
     ]
    }
   ],
   "source": [
    "voltages = []\n",
    "for target in idealStates:\n",
    "    fidelList = []\n",
    "    for rho in rhoLis:\n",
    "        fidelList.append(Fidelity(rho,ReturnRho(target)))\n",
    "    index = fidelList.index(max(fidelList))\n",
    "    #print(index)\n",
    "    print(max(fidelList))\n",
    "    #print(voltageList[index])\n",
    "    voltages.append(voltageList[index])"
   ]
  },
  {
   "cell_type": "code",
   "execution_count": 22,
   "metadata": {},
   "outputs": [
    {
     "data": {
      "text/plain": [
       "array([ 0.99998086, -0.00541619, -0.00299237])"
      ]
     },
     "execution_count": 22,
     "metadata": {},
     "output_type": "execute_result"
    }
   ],
   "source": [
    "blochFromRho(ReturnRho(TNLCd_prep(voltages[0])@H))"
   ]
  },
  {
   "cell_type": "code",
   "execution_count": 23,
   "metadata": {},
   "outputs": [],
   "source": [
    "def Proj(argument):\n",
    "    return(TNLCd_prep(argument)@H)\n",
    "\n",
    "projectors = []\n",
    "for proj in projList:\n",
    "    voltage = voltages[projList.index(proj)]\n",
    "    projectors.append(np.outer(Proj(voltage),Proj(voltage).conj()))"
   ]
  },
  {
   "cell_type": "code",
   "execution_count": 24,
   "metadata": {},
   "outputs": [],
   "source": [
    "#Fidelity(ReturnRho(TNLCd_prep(voltages[0])@H),ReturnRho(H))"
   ]
  },
  {
   "cell_type": "markdown",
   "metadata": {},
   "source": [
    "# Analysis"
   ]
  },
  {
   "cell_type": "code",
   "execution_count": 25,
   "metadata": {},
   "outputs": [],
   "source": [
    "#analyzed state |IN>\n",
    "inState = L\n",
    "\n",
    "#number of photons used for analysis\n",
    "photons = 100000"
   ]
  },
  {
   "cell_type": "code",
   "execution_count": 26,
   "metadata": {},
   "outputs": [],
   "source": [
    "linPol = np.array([[1,0],[0,0]])\n",
    "\n",
    "TNLCd_anal = lambda u_: (total(u_[2])@total(u_[1])@total(u_[0])) #Analysis\n",
    "\n",
    "def OutState(argument):\n",
    "    return(linPol@TNLCd_anal(argument)@inState)"
   ]
  },
  {
   "cell_type": "code",
   "execution_count": 27,
   "metadata": {},
   "outputs": [],
   "source": [
    "#proj = 'H'\n",
    "#outState = OutState(voltages[projList.index(proj)])\n",
    "#print (outState)\n",
    "#print (abs(np.transpose(np.conjugate(outState))@outState))"
   ]
  },
  {
   "cell_type": "code",
   "execution_count": 28,
   "metadata": {},
   "outputs": [],
   "source": [
    "data = []\n",
    "\n",
    "for proj in projList:\n",
    "    outState = OutState(voltages[projList.index(proj)])\n",
    "    data.append(abs(np.transpose(outState)@outState)[0][0])\n",
    "    \n",
    "#print (data)"
   ]
  },
  {
   "cell_type": "code",
   "execution_count": 29,
   "metadata": {},
   "outputs": [
    {
     "name": "stdout",
     "output_type": "stream",
     "text": [
      "Photons per proj.: [16891 15355 16805 16691     0 34258]\n"
     ]
    }
   ],
   "source": [
    "prob = data/sum(data)\n",
    "countData = np.random.multinomial(photons,prob) #photons per projection - all projections measured at the same time (model)\n",
    "\n",
    "print ('Photons per proj.: ' + str(countData))"
   ]
  },
  {
   "cell_type": "markdown",
   "metadata": {},
   "source": [
    "## Maximum-likelihood"
   ]
  },
  {
   "cell_type": "code",
   "execution_count": 30,
   "metadata": {},
   "outputs": [],
   "source": [
    "[rho,bloch] = ML.Maxlik(countData, projectors)"
   ]
  },
  {
   "cell_type": "markdown",
   "metadata": {},
   "source": [
    "# Result"
   ]
  },
  {
   "cell_type": "code",
   "execution_count": 31,
   "metadata": {},
   "outputs": [
    {
     "name": "stdout",
     "output_type": "stream",
     "text": [
      "Analyzed state: [ 0.00858685  0.00388988 -0.99995557]\n",
      "|IN>:           [ 0.  0. -1.]\n"
     ]
    }
   ],
   "source": [
    "print ('Analyzed state: ' + str(bloch))\n",
    "print ('|IN>:           ' + str(blochFromRho(ReturnRho(inState))))"
   ]
  },
  {
   "cell_type": "code",
   "execution_count": null,
   "metadata": {},
   "outputs": [],
   "source": []
  }
 ],
 "metadata": {
  "kernelspec": {
   "display_name": "Python 3",
   "language": "python",
   "name": "python3"
  },
  "language_info": {
   "codemirror_mode": {
    "name": "ipython",
    "version": 3
   },
   "file_extension": ".py",
   "mimetype": "text/x-python",
   "name": "python",
   "nbconvert_exporter": "python",
   "pygments_lexer": "ipython3",
   "version": "3.8.5"
  }
 },
 "nbformat": 4,
 "nbformat_minor": 4
}
