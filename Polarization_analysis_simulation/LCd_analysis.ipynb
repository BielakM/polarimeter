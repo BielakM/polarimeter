{
 "cells": [
  {
   "cell_type": "code",
   "execution_count": 1,
   "metadata": {},
   "outputs": [],
   "source": [
    "import numpy as np\n",
    "import math\n",
    "import MaxLik as ML\n",
    "import matplotlib.pyplot as plt\n",
    "from scipy import linalg as LAS"
   ]
  },
  {
   "cell_type": "markdown",
   "metadata": {},
   "source": [
    "# Basic ideas of TNLCd tomography:\n",
    "\n",
    "First, the TNLC device is calibrated to be able to prepare six particular polarization states (as close to H, V, D, A, R, and L polarization as possible). These states are accurately characterized. When an unknown polarization state impinges the TNLC device followed by a polarizer and a photodetector, the device performs a polarization projection to the particular state. Six detection responses are sequentially acquired for the corresponding calibrated states. The input polarization state could be easily retrieved by solving a set of resulting linear equations or, which is how we proceed, using the maximum-likelihood method."
   ]
  },
  {
   "cell_type": "markdown",
   "metadata": {},
   "source": [
    "## Ideal HVDARL definition"
   ]
  },
  {
   "cell_type": "code",
   "execution_count": 2,
   "metadata": {},
   "outputs": [],
   "source": [
    "H = np.array([[1],[0]])\n",
    "V = np.array([[0],[1]])\n",
    "D = 1/math.sqrt(2) * (H + V)\n",
    "A = 1/math.sqrt(2) * (H - V)\n",
    "R = 1/math.sqrt(2) * (H + 1j*V)\n",
    "L = 1/math.sqrt(2) * (H - 1j*V)\n",
    "\n",
    "idealStates = [H,V,D,A,R,L]\n",
    "projList = ['H', 'V', 'D', 'A', 'R', 'L'] # List of projectors"
   ]
  },
  {
   "cell_type": "markdown",
   "metadata": {},
   "source": [
    "## Import of conversions relations"
   ]
  },
  {
   "cell_type": "code",
   "execution_count": 3,
   "metadata": {},
   "outputs": [],
   "source": [
    "def ReturnRho(jones): \n",
    "    '''\n",
    "    Convert Jones vector to rho matrix\n",
    "    '''\n",
    "    return (jones@np.transpose(np.conjugate(jones)))\n",
    "\n",
    "def Fidelity(rho1,rho2): \n",
    "    '''\n",
    "    Returns fidelity between rho1 and rho2\n",
    "    '''\n",
    "    return ((np.trace(LAS.sqrtm(LAS.sqrtm(rho1)@rho2@LAS.sqrtm(rho1))))**2).real"
   ]
  },
  {
   "cell_type": "markdown",
   "metadata": {},
   "source": [
    "### Sigma matrices"
   ]
  },
  {
   "cell_type": "code",
   "execution_count": 4,
   "metadata": {},
   "outputs": [],
   "source": [
    "sigma1 = np.array([[1., 0.], [0., -1.]])\n",
    "sigma2 = np.array([[0., 1.], [1., 0.]])\n",
    "sigma3 = np.array([[0., -1j], [1j, 0.]])\n",
    "sigma = np.array([sigma1, sigma2, sigma3])"
   ]
  },
  {
   "cell_type": "markdown",
   "metadata": {},
   "source": [
    "### Convert rho matrix to Bloch vector"
   ]
  },
  {
   "cell_type": "code",
   "execution_count": 5,
   "metadata": {},
   "outputs": [],
   "source": [
    "blochFromRho = lambda rho_ : np.real(np.array([\n",
    "    np.trace(np.dot(rho_,sigma1)),\n",
    "    np.trace(np.dot(rho_,sigma2)),\n",
    "    np.trace(np.dot(rho_,sigma3))\n",
    "]))"
   ]
  },
  {
   "cell_type": "markdown",
   "metadata": {},
   "source": [
    "### Convert Bloch vector to rho matrix"
   ]
  },
  {
   "cell_type": "code",
   "execution_count": 6,
   "metadata": {},
   "outputs": [],
   "source": [
    "rhoFromBloch = lambda bloch_ : np.array([\n",
    "    [1+bloch_[0], bloch_[1]-1j*bloch_[2]],\n",
    "    [bloch_[1]+1j*bloch_[2], 1-bloch_[0]]\n",
    "])/2."
   ]
  },
  {
   "cell_type": "markdown",
   "metadata": {},
   "source": [
    "# TN LCc model\n",
    "## Fitted parameters"
   ]
  },
  {
   "cell_type": "code",
   "execution_count": 7,
   "metadata": {},
   "outputs": [],
   "source": [
    "a = -7.82057;\n",
    "b = 0.0761821;\n",
    "c = 176.156;\n",
    "d = -2.89523;\n",
    "e = -2.86832;\n",
    "phi = -5.15607;\n",
    "theta = -2.58144;"
   ]
  },
  {
   "cell_type": "markdown",
   "metadata": {},
   "source": [
    "## Logistic function"
   ]
  },
  {
   "cell_type": "code",
   "execution_count": 8,
   "metadata": {},
   "outputs": [],
   "source": [
    "retfun = lambda u_ : a + (1/(b + np.exp(d - c * (u_ ** e))))\n",
    "# The prescription of the function describing the dependence of the ret. on voltage"
   ]
  },
  {
   "cell_type": "code",
   "execution_count": 9,
   "metadata": {},
   "outputs": [
    {
     "data": {
      "image/png": "[encoded data removed]",
      "text/plain": [
       "<Figure size 432x288 with 1 Axes>"
      ]
     },
     "metadata": {
      "needs_background": "light"
     },
     "output_type": "display_data"
    }
   ],
   "source": [
    "voltages = []\n",
    "funcVal = []\n",
    "for u in np.arange(0.01,10,0.1):\n",
    "    voltages.append(u)\n",
    "    funcVal.append(retfun(u))\n",
    "    \n",
    "plt.plot(voltages,funcVal)\n",
    "plt.xlabel('Vpp')\n",
    "plt.ylabel('ret.')\n",
    "plt.show()"
   ]
  },
  {
   "cell_type": "markdown",
   "metadata": {},
   "source": [
    "## TN LCc matrix"
   ]
  },
  {
   "cell_type": "code",
   "execution_count": 10,
   "metadata": {},
   "outputs": [],
   "source": [
    "lcmat = lambda u_: np.array([[np.cos(X(u_)) + (1j*gamma(u_) * np.sin(X(u_)))/X(u_), \n",
    "                            -((phi * np.sin(X(u_)))/X(u_))], \n",
    "                             [(phi * np.sin(X(u_)))/X(u_),\n",
    "                            np.cos(X(u_)) - (1j * gamma(u_) * np.sin(X(u_))/X(u_))]])\n",
    "gamma = lambda u_: retfun(u_)\n",
    "X = lambda u_ : np.sqrt((phi**2) + gamma(u_)**2)"
   ]
  },
  {
   "cell_type": "markdown",
   "metadata": {},
   "source": [
    "### Total TN LCc matrix"
   ]
  },
  {
   "cell_type": "code",
   "execution_count": 11,
   "metadata": {},
   "outputs": [],
   "source": [
    "rot = lambda x_ : np.array([[np.cos(x_), np.sin(x_)], [-np.sin(x_), np.cos(x_)]])\n",
    "total = lambda u_ : rot(-theta)@rot(phi)@lcmat(u_)@rot(theta)"
   ]
  },
  {
   "cell_type": "code",
   "execution_count": 12,
   "metadata": {},
   "outputs": [
    {
     "name": "stdout",
     "output_type": "stream",
     "text": [
      "[[ 0.99575674-0.08794097j]\n",
      " [-0.02710254+0.00059889j]]\n"
     ]
    }
   ],
   "source": [
    "# Output Johnes vector when H polarization impinges a single TN LCc where 10.1Vpp is applied.\n",
    "print (np.matrix(total(10.1))@H) "
   ]
  },
  {
   "cell_type": "code",
   "execution_count": 13,
   "metadata": {},
   "outputs": [
    {
     "name": "stdout",
     "output_type": "stream",
     "text": [
      "[[ 0.96202639-0.26084398j]\n",
      " [-0.08038953+0.00177637j]]\n"
     ]
    }
   ],
   "source": [
    "# Output Johnes vector when H polarization impinges three TN LCc where on each one 10.1Vpp is applied.\n",
    "print (np.matrix(total(10.1)@total(10.1)@total(10.1))@H) "
   ]
  },
  {
   "cell_type": "markdown",
   "metadata": {},
   "source": [
    "# Searching for target voltages\n",
    "(grid sampling)"
   ]
  },
  {
   "cell_type": "code",
   "execution_count": 14,
   "metadata": {},
   "outputs": [],
   "source": [
    "# preparation matrix of TNLCd \n",
    "TNLCd_prep = lambda u_: (total(u_[0])@total(u_[1])@total(u_[2])) "
   ]
  },
  {
   "cell_type": "code",
   "execution_count": 15,
   "metadata": {},
   "outputs": [
    {
     "data": {
      "text/plain": [
       "array([0.83347487, 0.52750096, 0.16450644])"
      ]
     },
     "execution_count": 15,
     "metadata": {},
     "output_type": "execute_result"
    }
   ],
   "source": [
    "# Output Bloch vector when H polarization impinges the TNLCd where on each cell 0.1Vpp is applied.\n",
    "blochFromRho(ReturnRho(TNLCd_prep([.1,.1,.1])@H)) "
   ]
  },
  {
   "cell_type": "code",
   "execution_count": 16,
   "metadata": {},
   "outputs": [],
   "source": [
    "# grid search for target voltages\n",
    "voltageList = []\n",
    "statesList = []\n",
    "for u1 in np.arange(0.1,10,0.5):\n",
    "    for u2 in np.arange(0.1,10,0.5):\n",
    "        for u3 in np.arange(0.1,10,0.5):\n",
    "            voltageList.append([u1,u2,u3])\n",
    "            statesList.append(TNLCd_prep([u1,u2,u3])@H)\n",
    "rhoLis = []\n",
    "for state in statesList:\n",
    "    rhoLis.append(ReturnRho(state))"
   ]
  },
  {
   "cell_type": "code",
   "execution_count": 17,
   "metadata": {},
   "outputs": [
    {
     "name": "stdout",
     "output_type": "stream",
     "text": [
      "0.9997787949857925\n",
      "0.9974591322758545\n",
      "0.999901060842245\n",
      "0.9996272493720131\n",
      "0.9998496180034254\n",
      "0.999930192998013\n"
     ]
    }
   ],
   "source": [
    "voltages = []\n",
    "for target in idealStates:\n",
    "    fidelList = [Fidelity(rho,ReturnRho(target)) for rho in rhoLis]\n",
    "    index = fidelList.index(max(fidelList))\n",
    "    print(max(fidelList))\n",
    "    #print(voltageList[index])\n",
    "    voltages.append(voltageList[index])"
   ]
  },
  {
   "cell_type": "code",
   "execution_count": 18,
   "metadata": {},
   "outputs": [],
   "source": [
    "# Generation of projectors correspondent with \"best\" voltages\n",
    "def Proj(argument):\n",
    "    return(TNLCd_prep(argument)@H)\n",
    "\n",
    "projectors = []\n",
    "for proj in projList:\n",
    "    voltage = voltages[projList.index(proj)]\n",
    "    projectors.append(np.outer(Proj(voltage),Proj(voltage).conj()))"
   ]
  },
  {
   "cell_type": "markdown",
   "metadata": {},
   "source": [
    "# Analysis"
   ]
  },
  {
   "cell_type": "code",
   "execution_count": 19,
   "metadata": {},
   "outputs": [],
   "source": [
    "# analyzed state - |IN>\n",
    "inState = L\n",
    "\n",
    "# number of photons used for analysis\n",
    "photons = 100000"
   ]
  },
  {
   "cell_type": "code",
   "execution_count": 20,
   "metadata": {},
   "outputs": [],
   "source": [
    "linPol = np.array([[1,0],[0,0]])\n",
    "\n",
    "# Analysis matrix of TNLCd\n",
    "TNLCd_anal = lambda u_: (total(u_[2])@total(u_[1])@total(u_[0])) \n",
    "\n",
    "def OutState(argument):\n",
    "    return(linPol@TNLCd_anal(argument)@inState)"
   ]
  },
  {
   "cell_type": "markdown",
   "metadata": {},
   "source": [
    "#### Polarization state measurement simulation"
   ]
  },
  {
   "cell_type": "code",
   "execution_count": 21,
   "metadata": {},
   "outputs": [
    {
     "name": "stdout",
     "output_type": "stream",
     "text": [
      "Photons per proj.: [16856 18324 16039 15770     9 33002]\n"
     ]
    }
   ],
   "source": [
    "data = []\n",
    "for proj in projList:\n",
    "    outState = OutState(voltages[projList.index(proj)])\n",
    "    data.append(abs(np.transpose(outState)@outState)[0][0])\n",
    "\n",
    "prob = data/sum(data)\n",
    "countData = np.random.multinomial(photons,prob) #photons per projection - all projections measured at the same time (model)\n",
    "\n",
    "print ('Photons per proj.: ' + str(countData))"
   ]
  },
  {
   "cell_type": "markdown",
   "metadata": {},
   "source": [
    "## Maximum-likelihood\n",
    "\n",
    "State reconstruction using MaxLik"
   ]
  },
  {
   "cell_type": "code",
   "execution_count": 22,
   "metadata": {},
   "outputs": [],
   "source": [
    "[rho,bloch] = ML.Maxlik(countData, projectors)"
   ]
  },
  {
   "cell_type": "markdown",
   "metadata": {},
   "source": [
    "# Result"
   ]
  },
  {
   "cell_type": "code",
   "execution_count": 23,
   "metadata": {},
   "outputs": [
    {
     "name": "stdout",
     "output_type": "stream",
     "text": [
      "Analyzed state: [ 0.01690022 -0.00896737 -0.99975508]\n",
      "|IN>:           [ 0.  0. -1.]\n"
     ]
    }
   ],
   "source": [
    "print ('Analyzed state: ' + str(bloch))\n",
    "print ('|IN>:           ' + str(blochFromRho(ReturnRho(inState))))"
   ]
  }
 ],
 "metadata": {
  "kernelspec": {
   "display_name": "Python 3",
   "language": "python",
   "name": "python3"
  },
  "language_info": {
   "codemirror_mode": {
    "name": "ipython",
    "version": 3
   },
   "file_extension": ".py",
   "mimetype": "text/x-python",
   "name": "python",
   "nbconvert_exporter": "python",
   "pygments_lexer": "ipython3",
   "version": "3.8.10"
  }
 },
 "nbformat": 4,
 "nbformat_minor": 4
}
