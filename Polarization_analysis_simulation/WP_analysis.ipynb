{
 "cells": [
  {
   "cell_type": "code",
   "execution_count": 1,
   "metadata": {},
   "outputs": [],
   "source": [
    "import numpy as np\n",
    "import math\n",
    "import MaxLik as ML"
   ]
  },
  {
   "cell_type": "markdown",
   "metadata": {},
   "source": [
    "# Basic ideas of WP tomography:\n",
    "\n",
    "When an unknown polarization state impinges the WP analyzer followed by a polarizer and a photodetector, the analyzer performs a polarization projection to the particular state (H, V, D, A, R, and L, required WP angles are known). Six detection responses are sequentially acquired for the corresponding projections. The input polarization state could be easily retrieved by solving a set of resulting linear equations or, which is how we proceed, using the maximum-likelihood method."
   ]
  },
  {
   "cell_type": "code",
   "execution_count": 2,
   "metadata": {},
   "outputs": [],
   "source": [
    "sigma1 = np.array([[1., 0.], [0., -1.]])\n",
    "sigma2 = np.array([[0., 1.], [1., 0.]])\n",
    "sigma3 = np.array([[0., -1j], [1j, 0.]])\n",
    "sigma = np.array([sigma1, sigma2, sigma3])\n",
    "\n",
    "blochFromRho = lambda rho_ : np.real(np.array([\n",
    "    np.trace(np.dot(rho_,sigma1)),\n",
    "    np.trace(np.dot(rho_,sigma2)),\n",
    "    np.trace(np.dot(rho_,sigma3))\n",
    "]))\n",
    "\n",
    "rhoFromBloch = lambda bloch_ : np.array([\n",
    "    [1+bloch_[0], bloch_[1]-1j*bloch_[2]],\n",
    "    [bloch_[1]+1j*bloch_[2], 1-bloch_[0]]\n",
    "])/2."
   ]
  },
  {
   "cell_type": "code",
   "execution_count": 3,
   "metadata": {},
   "outputs": [],
   "source": [
    "#Idela HVDARL\n",
    "H = np.array([[1],[0]])\n",
    "V = np.array([[0],[1]])\n",
    "D = 1/math.sqrt(2) * (H + V)\n",
    "A = 1/math.sqrt(2) * (H - V)\n",
    "R = 1/math.sqrt(2) * (H + 1j*V)\n",
    "L = 1/math.sqrt(2) * (H - 1j*V)\n",
    "\n",
    "idealStates = [H,V,D,A,R,L]"
   ]
  },
  {
   "cell_type": "code",
   "execution_count": 4,
   "metadata": {},
   "outputs": [],
   "source": [
    "def ReturnRho(jones):\n",
    "    return (jones@np.transpose(np.conjugate(jones)))"
   ]
  },
  {
   "cell_type": "code",
   "execution_count": 5,
   "metadata": {},
   "outputs": [
    {
     "data": {
      "text/plain": [
       "array([ 0.,  0., -1.])"
      ]
     },
     "execution_count": 5,
     "metadata": {},
     "output_type": "execute_result"
    }
   ],
   "source": [
    "blochFromRho(ReturnRho(L))"
   ]
  },
  {
   "cell_type": "markdown",
   "metadata": {},
   "source": [
    "# Polarisation elements"
   ]
  },
  {
   "cell_type": "code",
   "execution_count": 6,
   "metadata": {},
   "outputs": [],
   "source": [
    "linPol = np.array([[1,0],[0,0]])\n",
    "QWP = np.array([[1,0],[0,-1j]])*np.exp(1j*np.pi/4)\n",
    "HWP = 1/math.sqrt(2)*np.array([[1,0],[0,-1]])\n",
    "\n",
    "#Angles for WP analysis\n",
    "angles = {'H': [   0   ,   0],\n",
    "          'V': [  45   ,   0],\n",
    "          'D': [  22.5 ,   0],\n",
    "          'A': [ -22.5 ,   0],\n",
    "          'R': [  22.5 , -45],\n",
    "          'L': [  22.5 ,  45],\n",
    "         }"
   ]
  },
  {
   "cell_type": "markdown",
   "metadata": {},
   "source": [
    "# Analysis"
   ]
  },
  {
   "cell_type": "code",
   "execution_count": 7,
   "metadata": {},
   "outputs": [],
   "source": [
    "#analyzed state |IN>\n",
    "inState = L\n",
    "\n",
    "#number of photons used for analysis\n",
    "photons = 100000"
   ]
  },
  {
   "cell_type": "code",
   "execution_count": 8,
   "metadata": {},
   "outputs": [],
   "source": [
    "def Rot(phi):\n",
    "    return(np.array([[np.cos(phi),-np.sin(phi)],[np.sin(phi),np.cos(phi)]]))\n",
    "\n",
    "QWP = np.array([[1,0],[0,-1j]])\n",
    "HWP = np.array([[1,0],[0,-1]])"
   ]
  },
  {
   "cell_type": "code",
   "execution_count": 9,
   "metadata": {},
   "outputs": [],
   "source": [
    "def OutState(argument):\n",
    "    [phiHWP,phiQWP] = argument\n",
    "    phiHWP = math.radians(phiHWP)\n",
    "    phiQWP = math.radians(phiQWP)\n",
    "    return((linPol@(Rot(-phiQWP)@QWP@Rot(phiQWP))@(Rot(-phiHWP)@HWP@Rot(phiHWP)))@inState)"
   ]
  },
  {
   "cell_type": "code",
   "execution_count": 10,
   "metadata": {},
   "outputs": [],
   "source": [
    "#proj = 'R'\n",
    "#outState = OutState(angles[proj])\n",
    "#print (outState)\n",
    "#print (abs(np.transpose(np.conjugate(outState))@outState)[0][0])"
   ]
  },
  {
   "cell_type": "code",
   "execution_count": 11,
   "metadata": {},
   "outputs": [],
   "source": [
    "projList = ['H', 'V', 'D', 'A', 'R', 'L']\n",
    "data = []\n",
    "\n",
    "for proj in projList:\n",
    "    outState = OutState(angles[proj])\n",
    "    data.append(abs(np.transpose(outState)@outState)[0][0])\n",
    "    \n",
    "#print (data)"
   ]
  },
  {
   "cell_type": "code",
   "execution_count": 12,
   "metadata": {},
   "outputs": [
    {
     "name": "stdout",
     "output_type": "stream",
     "text": [
      "Photons per proj.: [16786 16753 16573 16437     0 33451]\n"
     ]
    }
   ],
   "source": [
    "prob = data/sum(data)\n",
    "countData = np.random.multinomial(photons,prob) #photons per projection - all projections measured at the same time (model)\n",
    "\n",
    "print ('Photons per proj.: ' + str(countData))"
   ]
  },
  {
   "cell_type": "code",
   "execution_count": 13,
   "metadata": {},
   "outputs": [],
   "source": [
    "def Proj(argument):\n",
    "    [phiHWP,phiQWP] = argument\n",
    "    phiHWP = math.radians(phiHWP)\n",
    "    phiQWP = math.radians(phiQWP)\n",
    "    return((Rot(phiHWP)@HWP@Rot(-phiHWP))@(Rot(phiQWP)@QWP@Rot(-phiQWP))@H)\n",
    "\n",
    "projectors = []\n",
    "for proj in projList:\n",
    "    projectors.append(np.outer(Proj(angles[proj]),Proj(angles[proj]).conj()))"
   ]
  },
  {
   "cell_type": "markdown",
   "metadata": {},
   "source": [
    "## Maximum-likelihood"
   ]
  },
  {
   "cell_type": "code",
   "execution_count": 14,
   "metadata": {},
   "outputs": [],
   "source": [
    "[rho,bloch] = ML.Maxlik(countData, projectors)"
   ]
  },
  {
   "cell_type": "markdown",
   "metadata": {},
   "source": [
    "# Result"
   ]
  },
  {
   "cell_type": "code",
   "execution_count": 15,
   "metadata": {},
   "outputs": [
    {
     "name": "stdout",
     "output_type": "stream",
     "text": [
      "Analyzed state: [ 6.56525771e-04  2.73446674e-03 -9.99996046e-01]\n",
      "|IN>:           [ 0.  0. -1.]\n"
     ]
    }
   ],
   "source": [
    "print ('Analyzed state: ' + str(bloch))\n",
    "print ('|IN>:           ' + str(blochFromRho(ReturnRho(inState))))"
   ]
  },
  {
   "cell_type": "code",
   "execution_count": 16,
   "metadata": {},
   "outputs": [],
   "source": [
    "#Proj([45,45])"
   ]
  },
  {
   "cell_type": "code",
   "execution_count": null,
   "metadata": {},
   "outputs": [],
   "source": []
  }
 ],
 "metadata": {
  "kernelspec": {
   "display_name": "Python 3",
   "language": "python",
   "name": "python3"
  },
  "language_info": {
   "codemirror_mode": {
    "name": "ipython",
    "version": 3
   },
   "file_extension": ".py",
   "mimetype": "text/x-python",
   "name": "python",
   "nbconvert_exporter": "python",
   "pygments_lexer": "ipython3",
   "version": "3.8.5"
  }
 },
 "nbformat": 4,
 "nbformat_minor": 4
}
